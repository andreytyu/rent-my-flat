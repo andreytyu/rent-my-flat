{
 "cells": [
  {
   "cell_type": "code",
   "execution_count": 113,
   "metadata": {},
   "outputs": [],
   "source": [
    "import requests\n",
    "import json\n",
    "\n",
    "import pandas as pd\n",
    "\n",
    "from bs4 import BeautifulSoup"
   ]
  },
  {
   "cell_type": "code",
   "execution_count": 47,
   "metadata": {},
   "outputs": [],
   "source": [
    "msk_bbox = 55.3085,36.8811,56.1941,38.3024\n",
    "\n",
    "overpass_url = \"http://overpass-api.de/api/interpreter\"\n",
    "\n",
    "overpass_query = '''\n",
    "[out:json];\n",
    "(node[\"station\"=\"subway\"]({},{},{},{});\n",
    ");\n",
    "out center;\n",
    "'''.format(*msk_bbox)\n",
    "\n",
    "wiki_page = '''\n",
    "https://ru.wikipedia.org/wiki/%D0%A1%D0%BF%D0%B8%D1%81%D0%BE%D0%BA_%D1%81%D\n",
    "1%82%D0%B0%D0%BD%D1%86%D0%B8%D0%B9_%D0%9C%D0%BE%D1%81%D0%BA%D0%BE%D0%B2%D1%8\n",
    "1%D0%BA%D0%BE%D0%B3%D0%BE_%D0%BC%D0%B5%D1%82%D1%80%D0%BE%D0%BF%D0%BE%D0%BB%D\n",
    "0%B8%D1%82%D0%B5%D0%BD%D0%B0\n",
    "'''.replace('\\n', '')"
   ]
  },
  {
   "cell_type": "markdown",
   "metadata": {},
   "source": [
    "## OSM stations"
   ]
  },
  {
   "cell_type": "code",
   "execution_count": 71,
   "metadata": {},
   "outputs": [],
   "source": [
    "response = requests.get(overpass_url, \n",
    "                        params={'data': overpass_query})\n",
    "data = response.json()"
   ]
  },
  {
   "cell_type": "code",
   "execution_count": 107,
   "metadata": {},
   "outputs": [],
   "source": [
    "stations_osm = pd.DataFrame(data['elements'])\n",
    "stations_osm = stations_osm.join(pd.DataFrame([x['tags'] for x in data['elements']])).drop('tags', axis=1)\n",
    "stations_osm = stations_osm[['name','id','lon','lat','colour','network','operator']]\n",
    "stations_osm.columns = ['osm_'+x for x in stations_osm.columns]"
   ]
  },
  {
   "cell_type": "code",
   "execution_count": 109,
   "metadata": {},
   "outputs": [
    {
     "data": {
      "text/html": [
       "<div>\n",
       "<style scoped>\n",
       "    .dataframe tbody tr th:only-of-type {\n",
       "        vertical-align: middle;\n",
       "    }\n",
       "\n",
       "    .dataframe tbody tr th {\n",
       "        vertical-align: top;\n",
       "    }\n",
       "\n",
       "    .dataframe thead th {\n",
       "        text-align: right;\n",
       "    }\n",
       "</style>\n",
       "<table border=\"1\" class=\"dataframe\">\n",
       "  <thead>\n",
       "    <tr style=\"text-align: right;\">\n",
       "      <th></th>\n",
       "      <th>osm_name</th>\n",
       "      <th>osm_id</th>\n",
       "      <th>osm_lon</th>\n",
       "      <th>osm_lat</th>\n",
       "      <th>osm_colour</th>\n",
       "      <th>osm_network</th>\n",
       "      <th>osm_operator</th>\n",
       "    </tr>\n",
       "  </thead>\n",
       "  <tbody>\n",
       "    <tr>\n",
       "      <th>0</th>\n",
       "      <td>Медведково</td>\n",
       "      <td>60660466</td>\n",
       "      <td>37.661550</td>\n",
       "      <td>55.887177</td>\n",
       "      <td>orange</td>\n",
       "      <td>Московский метрополитен</td>\n",
       "      <td>ГУП «Московский метрополитен»</td>\n",
       "    </tr>\n",
       "    <tr>\n",
       "      <th>1</th>\n",
       "      <td>Бабушкинская</td>\n",
       "      <td>60660469</td>\n",
       "      <td>37.664184</td>\n",
       "      <td>55.869625</td>\n",
       "      <td>orange</td>\n",
       "      <td>Московский метрополитен</td>\n",
       "      <td>ГУП «Московский метрополитен»</td>\n",
       "    </tr>\n",
       "    <tr>\n",
       "      <th>2</th>\n",
       "      <td>Партизанская</td>\n",
       "      <td>68916801</td>\n",
       "      <td>37.751001</td>\n",
       "      <td>55.788533</td>\n",
       "      <td>blue</td>\n",
       "      <td>Московский метрополитен</td>\n",
       "      <td>ГУП «Московский метрополитен»</td>\n",
       "    </tr>\n",
       "    <tr>\n",
       "      <th>3</th>\n",
       "      <td>Семёновская</td>\n",
       "      <td>68937012</td>\n",
       "      <td>37.721361</td>\n",
       "      <td>55.783307</td>\n",
       "      <td>blue</td>\n",
       "      <td>Московский метрополитен</td>\n",
       "      <td>ГУП «Московский метрополитен»</td>\n",
       "    </tr>\n",
       "    <tr>\n",
       "      <th>4</th>\n",
       "      <td>Филёвский парк</td>\n",
       "      <td>241158259</td>\n",
       "      <td>37.483423</td>\n",
       "      <td>55.739457</td>\n",
       "      <td>lightblue</td>\n",
       "      <td>Московский метрополитен</td>\n",
       "      <td>ГУП «Московский метрополитен»</td>\n",
       "    </tr>\n",
       "  </tbody>\n",
       "</table>\n",
       "</div>"
      ],
      "text/plain": [
       "         osm_name     osm_id    osm_lon    osm_lat osm_colour  \\\n",
       "0      Медведково   60660466  37.661550  55.887177     orange   \n",
       "1    Бабушкинская   60660469  37.664184  55.869625     orange   \n",
       "2    Партизанская   68916801  37.751001  55.788533       blue   \n",
       "3     Семёновская   68937012  37.721361  55.783307       blue   \n",
       "4  Филёвский парк  241158259  37.483423  55.739457  lightblue   \n",
       "\n",
       "               osm_network                   osm_operator  \n",
       "0  Московский метрополитен  ГУП «Московский метрополитен»  \n",
       "1  Московский метрополитен  ГУП «Московский метрополитен»  \n",
       "2  Московский метрополитен  ГУП «Московский метрополитен»  \n",
       "3  Московский метрополитен  ГУП «Московский метрополитен»  \n",
       "4  Московский метрополитен  ГУП «Московский метрополитен»  "
      ]
     },
     "execution_count": 109,
     "metadata": {},
     "output_type": "execute_result"
    }
   ],
   "source": [
    "stations_osm.head()"
   ]
  },
  {
   "cell_type": "code",
   "execution_count": 110,
   "metadata": {},
   "outputs": [],
   "source": [
    "#235 станций, 12 веток"
   ]
  },
  {
   "cell_type": "markdown",
   "metadata": {},
   "source": [
    "## Wiki stations"
   ]
  },
  {
   "cell_type": "code",
   "execution_count": 407,
   "metadata": {},
   "outputs": [],
   "source": [
    "html = requests.get(wiki_page).text\n",
    "bs = BeautifulSoup(html, \"lxml\")\n",
    "table = bs.findAll(lambda tag: tag.name=='table') "
   ]
  },
  {
   "cell_type": "code",
   "execution_count": 408,
   "metadata": {},
   "outputs": [],
   "source": [
    "rows = table[3].findAll(lambda tag: tag.name=='tr')"
   ]
  },
  {
   "cell_type": "code",
   "execution_count": 409,
   "metadata": {},
   "outputs": [],
   "source": [
    "df = []\n",
    "\n",
    "for i, row in enumerate(rows):\n",
    "    \n",
    "    if i == 0:\n",
    "        continue\n",
    "        \n",
    "    tds = row.findAll(lambda tag: tag.name=='td')\n",
    "    \n",
    "    # metro line name, id and station order\n",
    "    line_info = tds[0].findAll(lambda tag: tag.name=='span')\n",
    "    line_id = line_info[0].contents[0]\n",
    "    line_name = line_info[1]['title']\n",
    "    station_order = line_info[2].contents[0]\n",
    "    \n",
    "    # station name\n",
    "    if tds[1].find(lambda tag: tag.name=='span'):\n",
    "        station_name = tds[1].find(lambda tag: tag.name=='span').contents[0].contents[0]\n",
    "    else:\n",
    "        station_name = tds[1].contents[0].contents[0]\n",
    "        \n",
    "    # change to different lines\n",
    "    changes = tds[3].findAll(lambda tag: tag.name=='span')\n",
    "    if len(changes) == 0:\n",
    "        change_ids = None\n",
    "        change_descs = 'нет пересадки'\n",
    "    else:\n",
    "        change_ids = []\n",
    "        change_descs = []\n",
    "        for x in range(0,len(changes),2):\n",
    "            change_ids.append(changes[x].contents[0])\n",
    "            change_descs.append(changes[x+1]['title'])  \n",
    "    \n",
    "    # station depth\n",
    "    depth = tds[4].contents[0]\n",
    "    \n",
    "    #station coordinates\n",
    "    coords = tds[6].find(lambda tag: tag.name=='a')\n",
    "    if coords:\n",
    "        lat = coords['data-lat']\n",
    "        lon = coords['data-lon']\n",
    "    else:\n",
    "        lat = None\n",
    "        lon = None\n",
    "        \n",
    "    df.append([line_id,line_name,station_order,\n",
    "                    station_name,change_ids,change_descs,\n",
    "                    depth, lon, lat])\n",
    "    \n",
    "df = pd.DataFrame(df, columns=['line_id','line_name','station_order',\n",
    "                    'station_name','change_ids','change_descs',\n",
    "                    'depth', 'lon', 'lat'])"
   ]
  },
  {
   "cell_type": "code",
   "execution_count": 411,
   "metadata": {},
   "outputs": [
    {
     "data": {
      "text/html": [
       "<div>\n",
       "<style scoped>\n",
       "    .dataframe tbody tr th:only-of-type {\n",
       "        vertical-align: middle;\n",
       "    }\n",
       "\n",
       "    .dataframe tbody tr th {\n",
       "        vertical-align: top;\n",
       "    }\n",
       "\n",
       "    .dataframe thead th {\n",
       "        text-align: right;\n",
       "    }\n",
       "</style>\n",
       "<table border=\"1\" class=\"dataframe\">\n",
       "  <thead>\n",
       "    <tr style=\"text-align: right;\">\n",
       "      <th></th>\n",
       "      <th>line_id</th>\n",
       "      <th>line_name</th>\n",
       "      <th>station_order</th>\n",
       "      <th>station_name</th>\n",
       "      <th>change_ids</th>\n",
       "      <th>change_descs</th>\n",
       "      <th>depth</th>\n",
       "      <th>lon</th>\n",
       "      <th>lat</th>\n",
       "    </tr>\n",
       "  </thead>\n",
       "  <tbody>\n",
       "    <tr>\n",
       "      <th>0</th>\n",
       "      <td>01</td>\n",
       "      <td>Сокольническая линия</td>\n",
       "      <td>01</td>\n",
       "      <td>Бульвар Рокоссовского</td>\n",
       "      <td>[14]</td>\n",
       "      <td>[Переход на станцию Бульвар Рокоссовского Моск...</td>\n",
       "      <td>−8</td>\n",
       "      <td>37.7342</td>\n",
       "      <td>55.8148</td>\n",
       "    </tr>\n",
       "    <tr>\n",
       "      <th>1</th>\n",
       "      <td>01</td>\n",
       "      <td>Сокольническая линия</td>\n",
       "      <td>02</td>\n",
       "      <td>Черкизовская</td>\n",
       "      <td>[14]</td>\n",
       "      <td>[Переход на станцию Локомотив Московского цент...</td>\n",
       "      <td>−9</td>\n",
       "      <td>37.7448</td>\n",
       "      <td>55.8038</td>\n",
       "    </tr>\n",
       "    <tr>\n",
       "      <th>2</th>\n",
       "      <td>01</td>\n",
       "      <td>Сокольническая линия</td>\n",
       "      <td>03</td>\n",
       "      <td>Преображенская площадь</td>\n",
       "      <td>None</td>\n",
       "      <td>нет пересадки</td>\n",
       "      <td>−8</td>\n",
       "      <td>37.7151</td>\n",
       "      <td>55.7963</td>\n",
       "    </tr>\n",
       "    <tr>\n",
       "      <th>3</th>\n",
       "      <td>01</td>\n",
       "      <td>Сокольническая линия</td>\n",
       "      <td>04</td>\n",
       "      <td>Сокольники</td>\n",
       "      <td>None</td>\n",
       "      <td>нет пересадки</td>\n",
       "      <td>−9</td>\n",
       "      <td>37.6802</td>\n",
       "      <td>55.7888</td>\n",
       "    </tr>\n",
       "    <tr>\n",
       "      <th>4</th>\n",
       "      <td>01</td>\n",
       "      <td>Сокольническая линия</td>\n",
       "      <td>05</td>\n",
       "      <td>Красносельская</td>\n",
       "      <td>None</td>\n",
       "      <td>нет пересадки</td>\n",
       "      <td>−8</td>\n",
       "      <td>37.6673</td>\n",
       "      <td>55.7801</td>\n",
       "    </tr>\n",
       "  </tbody>\n",
       "</table>\n",
       "</div>"
      ],
      "text/plain": [
       "  line_id             line_name station_order            station_name  \\\n",
       "0      01  Сокольническая линия            01   Бульвар Рокоссовского   \n",
       "1      01  Сокольническая линия            02            Черкизовская   \n",
       "2      01  Сокольническая линия            03  Преображенская площадь   \n",
       "3      01  Сокольническая линия            04              Сокольники   \n",
       "4      01  Сокольническая линия            05          Красносельская   \n",
       "\n",
       "  change_ids                                       change_descs depth  \\\n",
       "0       [14]  [Переход на станцию Бульвар Рокоссовского Моск...   −8\n",
       "   \n",
       "1       [14]  [Переход на станцию Локомотив Московского цент...   −9\n",
       "   \n",
       "2       None                                      нет пересадки   −8\n",
       "   \n",
       "3       None                                      нет пересадки   −9\n",
       "   \n",
       "4       None                                      нет пересадки   −8\n",
       "   \n",
       "\n",
       "       lon      lat  \n",
       "0  37.7342  55.8148  \n",
       "1  37.7448  55.8038  \n",
       "2  37.7151  55.7963  \n",
       "3  37.6802  55.7888  \n",
       "4  37.6673  55.7801  "
      ]
     },
     "execution_count": 411,
     "metadata": {},
     "output_type": "execute_result"
    }
   ],
   "source": [
    "df.head()"
   ]
  },
  {
   "cell_type": "code",
   "execution_count": 413,
   "metadata": {},
   "outputs": [
    {
     "data": {
      "text/plain": [
       "(15,)"
      ]
     },
     "execution_count": 413,
     "metadata": {},
     "output_type": "execute_result"
    }
   ],
   "source": [
    "df.line_name.unique().shape"
   ]
  },
  {
   "cell_type": "code",
   "execution_count": 414,
   "metadata": {},
   "outputs": [
    {
     "data": {
      "text/plain": [
       "(238, 9)"
      ]
     },
     "execution_count": 414,
     "metadata": {},
     "output_type": "execute_result"
    }
   ],
   "source": [
    "df.shape"
   ]
  },
  {
   "cell_type": "code",
   "execution_count": 416,
   "metadata": {},
   "outputs": [],
   "source": [
    "stations_osm.to_csv('data/stations_osm.csv', index=False)\n",
    "df.to_csv('data/stations_wiki.csv', index=False)"
   ]
  },
  {
   "cell_type": "code",
   "execution_count": null,
   "metadata": {},
   "outputs": [],
   "source": []
  }
 ],
 "metadata": {
  "kernelspec": {
   "display_name": "Python 3",
   "language": "python",
   "name": "python3"
  },
  "language_info": {
   "codemirror_mode": {
    "name": "ipython",
    "version": 3
   },
   "file_extension": ".py",
   "mimetype": "text/x-python",
   "name": "python",
   "nbconvert_exporter": "python",
   "pygments_lexer": "ipython3",
   "version": "3.6.5"
  }
 },
 "nbformat": 4,
 "nbformat_minor": 2
}
