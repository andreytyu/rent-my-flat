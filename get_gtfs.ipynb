{
 "cells": [
  {
   "cell_type": "code",
   "execution_count": 5,
   "metadata": {},
   "outputs": [],
   "source": [
    "import requests\n",
    "import pandas as pd\n",
    "import requests \n",
    "import os"
   ]
  },
  {
   "cell_type": "markdown",
   "metadata": {},
   "source": [
    "# Buses mos.ru"
   ]
  },
  {
   "cell_type": "code",
   "execution_count": 6,
   "metadata": {},
   "outputs": [],
   "source": [
    "url = 'https://op.mos.ru/EHDWSREST/catalog/export/get?id='\n",
    "ids = [785561, 785489, 785513, 785597, 785477, 784213]"
   ]
  },
  {
   "cell_type": "code",
   "execution_count": 7,
   "metadata": {},
   "outputs": [],
   "source": [
    "temp_file = 'temp.zip'"
   ]
  },
  {
   "cell_type": "code",
   "execution_count": 8,
   "metadata": {},
   "outputs": [],
   "source": [
    "def download_url(url, save_path, chunk_size=128):\n",
    "    r = requests.get(url, stream=True)\n",
    "    with open(save_path, 'wb') as fd:\n",
    "        for chunk in r.iter_content(chunk_size=chunk_size):\n",
    "            fd.write(chunk)"
   ]
  },
  {
   "cell_type": "markdown",
   "metadata": {},
   "source": [
    "## calendar.txt"
   ]
  },
  {
   "cell_type": "code",
   "execution_count": 9,
   "metadata": {},
   "outputs": [],
   "source": [
    "download_url('https://op.mos.ru/EHDWSREST/catalog/export/get?id='+str(ids[0]), temp_file)"
   ]
  },
  {
   "cell_type": "code",
   "execution_count": 10,
   "metadata": {},
   "outputs": [
    {
     "data": {
      "text/html": [
       "<div>\n",
       "<style scoped>\n",
       "    .dataframe tbody tr th:only-of-type {\n",
       "        vertical-align: middle;\n",
       "    }\n",
       "\n",
       "    .dataframe tbody tr th {\n",
       "        vertical-align: top;\n",
       "    }\n",
       "\n",
       "    .dataframe thead th {\n",
       "        text-align: right;\n",
       "    }\n",
       "</style>\n",
       "<table border=\"1\" class=\"dataframe\">\n",
       "  <thead>\n",
       "    <tr style=\"text-align: right;\">\n",
       "      <th></th>\n",
       "      <th>global_id</th>\n",
       "      <th>service_id</th>\n",
       "      <th>monday</th>\n",
       "      <th>tuesday</th>\n",
       "      <th>wednesday</th>\n",
       "      <th>thursday</th>\n",
       "      <th>friday</th>\n",
       "      <th>saturday</th>\n",
       "      <th>sunday</th>\n",
       "      <th>start_date</th>\n",
       "      <th>end_date</th>\n",
       "      <th>Unnamed: 11</th>\n",
       "    </tr>\n",
       "  </thead>\n",
       "  <tbody>\n",
       "    <tr>\n",
       "      <th>0</th>\n",
       "      <td>833044189</td>\n",
       "      <td>3</td>\n",
       "      <td>1</td>\n",
       "      <td>1</td>\n",
       "      <td>1</td>\n",
       "      <td>1</td>\n",
       "      <td>1</td>\n",
       "      <td>0</td>\n",
       "      <td>0</td>\n",
       "      <td>20190501</td>\n",
       "      <td>20190930</td>\n",
       "      <td>NaN</td>\n",
       "    </tr>\n",
       "    <tr>\n",
       "      <th>1</th>\n",
       "      <td>833044708</td>\n",
       "      <td>4</td>\n",
       "      <td>0</td>\n",
       "      <td>0</td>\n",
       "      <td>0</td>\n",
       "      <td>0</td>\n",
       "      <td>0</td>\n",
       "      <td>1</td>\n",
       "      <td>1</td>\n",
       "      <td>20190501</td>\n",
       "      <td>20190930</td>\n",
       "      <td>NaN</td>\n",
       "    </tr>\n",
       "  </tbody>\n",
       "</table>\n",
       "</div>"
      ],
      "text/plain": [
       "   global_id service_id monday tuesday wednesday thursday friday saturday  \\\n",
       "0  833044189          3      1       1         1        1      1        0   \n",
       "1  833044708          4      0       0         0        0      0        1   \n",
       "\n",
       "  sunday start_date  end_date  Unnamed: 11  \n",
       "0      0   20190501  20190930          NaN  \n",
       "1      1   20190501  20190930          NaN  "
      ]
     },
     "execution_count": 10,
     "metadata": {},
     "output_type": "execute_result"
    }
   ],
   "source": [
    "df = pd.read_csv(temp_file, sep=';', encoding='cp1251')\n",
    "df = df[df.global_id != 'global_id']\n",
    "df[['service_id', 'monday', 'tuesday', 'wednesday', 'thursday',\n",
    "   'friday', 'saturday', 'sunday', 'start_date',\n",
    "   'end_date']].to_csv('data/gtfs/calendar.txt', sep=',', index=False)\n",
    "df.head(2)"
   ]
  },
  {
   "cell_type": "markdown",
   "metadata": {},
   "source": [
    "## routes.txt"
   ]
  },
  {
   "cell_type": "code",
   "execution_count": 11,
   "metadata": {},
   "outputs": [],
   "source": [
    "download_url('https://op.mos.ru/EHDWSREST/catalog/export/get?id='+str(ids[1]), temp_file)"
   ]
  },
  {
   "cell_type": "code",
   "execution_count": 12,
   "metadata": {},
   "outputs": [
    {
     "data": {
      "text/plain": [
       "array(['3', '5', '0'], dtype=object)"
      ]
     },
     "execution_count": 12,
     "metadata": {},
     "output_type": "execute_result"
    }
   ],
   "source": [
    "df = pd.read_csv(temp_file, sep=';', encoding='cp1251')\n",
    "df = df[df.global_id != 'global_id']\n",
    "df = df[['route_id', 'agency_code', 'route_short_name', 'route_long_name', 'route_type', 'route_desc']]\n",
    "df = df.rename(columns = {'agency_code':'agency_id'})\n",
    "df.route_type.unique()"
   ]
  },
  {
   "cell_type": "code",
   "execution_count": 13,
   "metadata": {},
   "outputs": [],
   "source": [
    "df.route_type = df.route_type.replace('5', '11')"
   ]
  },
  {
   "cell_type": "code",
   "execution_count": 14,
   "metadata": {},
   "outputs": [
    {
     "data": {
      "text/html": [
       "<div>\n",
       "<style scoped>\n",
       "    .dataframe tbody tr th:only-of-type {\n",
       "        vertical-align: middle;\n",
       "    }\n",
       "\n",
       "    .dataframe tbody tr th {\n",
       "        vertical-align: top;\n",
       "    }\n",
       "\n",
       "    .dataframe thead th {\n",
       "        text-align: right;\n",
       "    }\n",
       "</style>\n",
       "<table border=\"1\" class=\"dataframe\">\n",
       "  <thead>\n",
       "    <tr style=\"text-align: right;\">\n",
       "      <th></th>\n",
       "      <th>route_id</th>\n",
       "      <th>agency_id</th>\n",
       "      <th>route_short_name</th>\n",
       "      <th>route_long_name</th>\n",
       "      <th>route_type</th>\n",
       "      <th>route_desc</th>\n",
       "    </tr>\n",
       "  </thead>\n",
       "  <tbody>\n",
       "    <tr>\n",
       "      <th>0</th>\n",
       "      <td>14150158</td>\n",
       "      <td>1</td>\n",
       "      <td>597</td>\n",
       "      <td>Метро \"Сокол\" - Набережная Новикова-Прибоя</td>\n",
       "      <td>3</td>\n",
       "      <td>NaN</td>\n",
       "    </tr>\n",
       "    <tr>\n",
       "      <th>1</th>\n",
       "      <td>14150132</td>\n",
       "      <td>2</td>\n",
       "      <td>380</td>\n",
       "      <td>Ст. МЦД Дегунино - Пр. Русанова</td>\n",
       "      <td>3</td>\n",
       "      <td>NaN</td>\n",
       "    </tr>\n",
       "  </tbody>\n",
       "</table>\n",
       "</div>"
      ],
      "text/plain": [
       "   route_id agency_id route_short_name  \\\n",
       "0  14150158         1              597   \n",
       "1  14150132         2              380   \n",
       "\n",
       "                              route_long_name route_type route_desc  \n",
       "0  Метро \"Сокол\" - Набережная Новикова-Прибоя          3        NaN  \n",
       "1             Ст. МЦД Дегунино - Пр. Русанова          3        NaN  "
      ]
     },
     "execution_count": 14,
     "metadata": {},
     "output_type": "execute_result"
    }
   ],
   "source": [
    "df.to_csv('data/gtfs/routes.txt', sep=',', index=False)\n",
    "df.head(2)"
   ]
  },
  {
   "cell_type": "markdown",
   "metadata": {},
   "source": [
    "## stops.txt"
   ]
  },
  {
   "cell_type": "code",
   "execution_count": 15,
   "metadata": {},
   "outputs": [
    {
     "data": {
      "text/html": [
       "<div>\n",
       "<style scoped>\n",
       "    .dataframe tbody tr th:only-of-type {\n",
       "        vertical-align: middle;\n",
       "    }\n",
       "\n",
       "    .dataframe tbody tr th {\n",
       "        vertical-align: top;\n",
       "    }\n",
       "\n",
       "    .dataframe thead th {\n",
       "        text-align: right;\n",
       "    }\n",
       "</style>\n",
       "<table border=\"1\" class=\"dataframe\">\n",
       "  <thead>\n",
       "    <tr style=\"text-align: right;\">\n",
       "      <th></th>\n",
       "      <th>global_id</th>\n",
       "      <th>stop_id</th>\n",
       "      <th>stop_name</th>\n",
       "      <th>StationName</th>\n",
       "      <th>Street</th>\n",
       "      <th>Direction</th>\n",
       "      <th>Pavilion</th>\n",
       "      <th>OperatingOrgName</th>\n",
       "      <th>geoData</th>\n",
       "      <th>Unnamed: 9</th>\n",
       "      <th>location_type</th>\n",
       "    </tr>\n",
       "  </thead>\n",
       "  <tbody>\n",
       "    <tr>\n",
       "      <th>0</th>\n",
       "      <td>833043944</td>\n",
       "      <td>3630</td>\n",
       "      <td>5-я Парковая ул.</td>\n",
       "      <td>NaN</td>\n",
       "      <td>NaN</td>\n",
       "      <td>NaN</td>\n",
       "      <td>NaN</td>\n",
       "      <td>NaN</td>\n",
       "      <td>{type=Point, coordinates=[37.78753642, 55.7929...</td>\n",
       "      <td>NaN</td>\n",
       "      <td>0</td>\n",
       "    </tr>\n",
       "    <tr>\n",
       "      <th>1</th>\n",
       "      <td>833043948</td>\n",
       "      <td>3631</td>\n",
       "      <td>7-я Парковая ул.</td>\n",
       "      <td>NaN</td>\n",
       "      <td>NaN</td>\n",
       "      <td>NaN</td>\n",
       "      <td>NaN</td>\n",
       "      <td>NaN</td>\n",
       "      <td>{type=Point, coordinates=[37.79377237, 55.7930...</td>\n",
       "      <td>NaN</td>\n",
       "      <td>0</td>\n",
       "    </tr>\n",
       "  </tbody>\n",
       "</table>\n",
       "</div>"
      ],
      "text/plain": [
       "   global_id stop_id         stop_name StationName Street Direction Pavilion  \\\n",
       "0  833043944    3630  5-я Парковая ул.         NaN    NaN       NaN      NaN   \n",
       "1  833043948    3631  7-я Парковая ул.         NaN    NaN       NaN      NaN   \n",
       "\n",
       "  OperatingOrgName                                            geoData  \\\n",
       "0              NaN  {type=Point, coordinates=[37.78753642, 55.7929...   \n",
       "1              NaN  {type=Point, coordinates=[37.79377237, 55.7930...   \n",
       "\n",
       "   Unnamed: 9  location_type  \n",
       "0         NaN              0  \n",
       "1         NaN              0  "
      ]
     },
     "execution_count": 15,
     "metadata": {},
     "output_type": "execute_result"
    }
   ],
   "source": [
    "download_url('https://op.mos.ru/EHDWSREST/catalog/export/get?id='+str(ids[2]), temp_file)\n",
    "df = pd.read_csv(temp_file, sep=';', encoding='cp1251')\n",
    "df = df[df.global_id != 'global_id']\n",
    "df['location_type'] = 0\n",
    "df.head(2)"
   ]
  },
  {
   "cell_type": "code",
   "execution_count": 16,
   "metadata": {},
   "outputs": [],
   "source": [
    "coords = [x.split('[')[1][:-2].split(', ') for x in df.geoData]\n",
    "df['stop_lon'] = [float(x[0]) for x in coords]\n",
    "df['stop_lat'] = [float(x[1]) for x in coords]\n",
    "df = df[['stop_id', 'stop_name', 'stop_lon', 'stop_lat', 'location_type']]"
   ]
  },
  {
   "cell_type": "code",
   "execution_count": 17,
   "metadata": {},
   "outputs": [],
   "source": [
    "df.to_csv('data/gtfs/stops.txt', sep=',', index=False)"
   ]
  },
  {
   "cell_type": "markdown",
   "metadata": {},
   "source": [
    "## stop_times.txt"
   ]
  },
  {
   "cell_type": "code",
   "execution_count": 18,
   "metadata": {},
   "outputs": [
    {
     "name": "stderr",
     "output_type": "stream",
     "text": [
      "/usr/local/lib/python3.6/site-packages/pandas/core/ops.py:1649: FutureWarning: elementwise comparison failed; returning scalar instead, but in the future will perform elementwise comparison\n",
      "  result = method(y)\n"
     ]
    },
    {
     "data": {
      "text/html": [
       "<div>\n",
       "<style scoped>\n",
       "    .dataframe tbody tr th:only-of-type {\n",
       "        vertical-align: middle;\n",
       "    }\n",
       "\n",
       "    .dataframe tbody tr th {\n",
       "        vertical-align: top;\n",
       "    }\n",
       "\n",
       "    .dataframe thead th {\n",
       "        text-align: right;\n",
       "    }\n",
       "</style>\n",
       "<table border=\"1\" class=\"dataframe\">\n",
       "  <thead>\n",
       "    <tr style=\"text-align: right;\">\n",
       "      <th></th>\n",
       "      <th>global_id</th>\n",
       "      <th>stop_times_id</th>\n",
       "      <th>trip_id</th>\n",
       "      <th>arrival_time</th>\n",
       "      <th>departure_time</th>\n",
       "      <th>stop_id</th>\n",
       "      <th>shape_dist_traveled</th>\n",
       "      <th>pickup_type</th>\n",
       "      <th>stop_headsign</th>\n",
       "      <th>stop_sequence</th>\n",
       "      <th>trip_type</th>\n",
       "      <th>stop_interval</th>\n",
       "      <th>Unnamed: 12</th>\n",
       "    </tr>\n",
       "  </thead>\n",
       "  <tbody>\n",
       "    <tr>\n",
       "      <th>0</th>\n",
       "      <td>870892967</td>\n",
       "      <td>NaN</td>\n",
       "      <td>14150167_1_4_2</td>\n",
       "      <td>07:10:00</td>\n",
       "      <td>07:10:00</td>\n",
       "      <td>1002227</td>\n",
       "      <td>NaN</td>\n",
       "      <td>NaN</td>\n",
       "      <td>NaN</td>\n",
       "      <td>1</td>\n",
       "      <td>NaN</td>\n",
       "      <td>NaN</td>\n",
       "      <td>NaN</td>\n",
       "    </tr>\n",
       "    <tr>\n",
       "      <th>1</th>\n",
       "      <td>870892968</td>\n",
       "      <td>NaN</td>\n",
       "      <td>14150167_1_3_32</td>\n",
       "      <td>22:33:00</td>\n",
       "      <td>22:33:00</td>\n",
       "      <td>1001069</td>\n",
       "      <td>NaN</td>\n",
       "      <td>NaN</td>\n",
       "      <td>NaN</td>\n",
       "      <td>13</td>\n",
       "      <td>NaN</td>\n",
       "      <td>NaN</td>\n",
       "      <td>NaN</td>\n",
       "    </tr>\n",
       "    <tr>\n",
       "      <th>2</th>\n",
       "      <td>870892970</td>\n",
       "      <td>NaN</td>\n",
       "      <td>14150167_1_4_2</td>\n",
       "      <td>07:12:00</td>\n",
       "      <td>07:12:00</td>\n",
       "      <td>11260</td>\n",
       "      <td>NaN</td>\n",
       "      <td>NaN</td>\n",
       "      <td>NaN</td>\n",
       "      <td>2</td>\n",
       "      <td>NaN</td>\n",
       "      <td>NaN</td>\n",
       "      <td>NaN</td>\n",
       "    </tr>\n",
       "    <tr>\n",
       "      <th>3</th>\n",
       "      <td>870892971</td>\n",
       "      <td>NaN</td>\n",
       "      <td>14150167_1_3_33</td>\n",
       "      <td>22:40:00</td>\n",
       "      <td>22:40:00</td>\n",
       "      <td>1001069</td>\n",
       "      <td>NaN</td>\n",
       "      <td>NaN</td>\n",
       "      <td>NaN</td>\n",
       "      <td>1</td>\n",
       "      <td>NaN</td>\n",
       "      <td>NaN</td>\n",
       "      <td>NaN</td>\n",
       "    </tr>\n",
       "    <tr>\n",
       "      <th>4</th>\n",
       "      <td>870892972</td>\n",
       "      <td>NaN</td>\n",
       "      <td>14150167_1_3_33</td>\n",
       "      <td>22:41:00</td>\n",
       "      <td>22:41:00</td>\n",
       "      <td>1002157</td>\n",
       "      <td>NaN</td>\n",
       "      <td>NaN</td>\n",
       "      <td>NaN</td>\n",
       "      <td>2</td>\n",
       "      <td>NaN</td>\n",
       "      <td>NaN</td>\n",
       "      <td>NaN</td>\n",
       "    </tr>\n",
       "  </tbody>\n",
       "</table>\n",
       "</div>"
      ],
      "text/plain": [
       "   global_id  stop_times_id          trip_id arrival_time departure_time  \\\n",
       "0  870892967            NaN   14150167_1_4_2     07:10:00       07:10:00   \n",
       "1  870892968            NaN  14150167_1_3_32     22:33:00       22:33:00   \n",
       "2  870892970            NaN   14150167_1_4_2     07:12:00       07:12:00   \n",
       "3  870892971            NaN  14150167_1_3_33     22:40:00       22:40:00   \n",
       "4  870892972            NaN  14150167_1_3_33     22:41:00       22:41:00   \n",
       "\n",
       "   stop_id  shape_dist_traveled  pickup_type  stop_headsign  stop_sequence  \\\n",
       "0  1002227                  NaN          NaN            NaN              1   \n",
       "1  1001069                  NaN          NaN            NaN             13   \n",
       "2    11260                  NaN          NaN            NaN              2   \n",
       "3  1001069                  NaN          NaN            NaN              1   \n",
       "4  1002157                  NaN          NaN            NaN              2   \n",
       "\n",
       "   trip_type  stop_interval  Unnamed: 12  \n",
       "0        NaN            NaN          NaN  \n",
       "1        NaN            NaN          NaN  \n",
       "2        NaN            NaN          NaN  \n",
       "3        NaN            NaN          NaN  \n",
       "4        NaN            NaN          NaN  "
      ]
     },
     "execution_count": 18,
     "metadata": {},
     "output_type": "execute_result"
    }
   ],
   "source": [
    "download_url('https://op.mos.ru/EHDWSREST/catalog/export/get?id='+str(ids[3]), temp_file)\n",
    "df = pd.read_csv(temp_file, sep=';', encoding='cp1251')\n",
    "df = df[df.global_id != 'global_id']\n",
    "df.head()"
   ]
  },
  {
   "cell_type": "code",
   "execution_count": 19,
   "metadata": {},
   "outputs": [],
   "source": [
    "df[['trip_id', 'arrival_time',\n",
    "  'departure_time', 'stop_id', 'stop_sequence',\n",
    "   'stop_headsign', 'pickup_type']].to_csv('data/gtfs/stop_times.txt', sep=',', index=False)"
   ]
  },
  {
   "cell_type": "markdown",
   "metadata": {},
   "source": [
    "## trips.txt\n"
   ]
  },
  {
   "cell_type": "code",
   "execution_count": 20,
   "metadata": {},
   "outputs": [
    {
     "data": {
      "text/html": [
       "<div>\n",
       "<style scoped>\n",
       "    .dataframe tbody tr th:only-of-type {\n",
       "        vertical-align: middle;\n",
       "    }\n",
       "\n",
       "    .dataframe tbody tr th {\n",
       "        vertical-align: top;\n",
       "    }\n",
       "\n",
       "    .dataframe thead th {\n",
       "        text-align: right;\n",
       "    }\n",
       "</style>\n",
       "<table border=\"1\" class=\"dataframe\">\n",
       "  <thead>\n",
       "    <tr style=\"text-align: right;\">\n",
       "      <th></th>\n",
       "      <th>global_id</th>\n",
       "      <th>route_id</th>\n",
       "      <th>service_id</th>\n",
       "      <th>trip_id</th>\n",
       "      <th>trip_headsign</th>\n",
       "      <th>direction_id</th>\n",
       "      <th>block_id</th>\n",
       "      <th>volume_id</th>\n",
       "      <th>trip_type</th>\n",
       "      <th>Unnamed: 9</th>\n",
       "    </tr>\n",
       "  </thead>\n",
       "  <tbody>\n",
       "    <tr>\n",
       "      <th>0</th>\n",
       "      <td>870379299</td>\n",
       "      <td>14150198</td>\n",
       "      <td>4</td>\n",
       "      <td>14150198_4_3_9</td>\n",
       "      <td>NaN</td>\n",
       "      <td>NaN</td>\n",
       "      <td>NaN</td>\n",
       "      <td>NaN</td>\n",
       "      <td>NaN</td>\n",
       "      <td>NaN</td>\n",
       "    </tr>\n",
       "    <tr>\n",
       "      <th>1</th>\n",
       "      <td>870379300</td>\n",
       "      <td>14150198</td>\n",
       "      <td>4</td>\n",
       "      <td>14150198_4_4_10</td>\n",
       "      <td>NaN</td>\n",
       "      <td>NaN</td>\n",
       "      <td>NaN</td>\n",
       "      <td>NaN</td>\n",
       "      <td>NaN</td>\n",
       "      <td>NaN</td>\n",
       "    </tr>\n",
       "    <tr>\n",
       "      <th>2</th>\n",
       "      <td>870379301</td>\n",
       "      <td>14150198</td>\n",
       "      <td>4</td>\n",
       "      <td>14150198_4_4_11</td>\n",
       "      <td>NaN</td>\n",
       "      <td>NaN</td>\n",
       "      <td>NaN</td>\n",
       "      <td>NaN</td>\n",
       "      <td>NaN</td>\n",
       "      <td>NaN</td>\n",
       "    </tr>\n",
       "    <tr>\n",
       "      <th>3</th>\n",
       "      <td>870379302</td>\n",
       "      <td>14150198</td>\n",
       "      <td>4</td>\n",
       "      <td>14150198_4_3_10</td>\n",
       "      <td>NaN</td>\n",
       "      <td>NaN</td>\n",
       "      <td>NaN</td>\n",
       "      <td>NaN</td>\n",
       "      <td>NaN</td>\n",
       "      <td>NaN</td>\n",
       "    </tr>\n",
       "    <tr>\n",
       "      <th>4</th>\n",
       "      <td>870379303</td>\n",
       "      <td>14150198</td>\n",
       "      <td>4</td>\n",
       "      <td>14150198_4_4_12</td>\n",
       "      <td>NaN</td>\n",
       "      <td>NaN</td>\n",
       "      <td>NaN</td>\n",
       "      <td>NaN</td>\n",
       "      <td>NaN</td>\n",
       "      <td>NaN</td>\n",
       "    </tr>\n",
       "  </tbody>\n",
       "</table>\n",
       "</div>"
      ],
      "text/plain": [
       "   global_id  route_id service_id          trip_id trip_headsign direction_id  \\\n",
       "0  870379299  14150198          4   14150198_4_3_9           NaN          NaN   \n",
       "1  870379300  14150198          4  14150198_4_4_10           NaN          NaN   \n",
       "2  870379301  14150198          4  14150198_4_4_11           NaN          NaN   \n",
       "3  870379302  14150198          4  14150198_4_3_10           NaN          NaN   \n",
       "4  870379303  14150198          4  14150198_4_4_12           NaN          NaN   \n",
       "\n",
       "  block_id volume_id trip_type  Unnamed: 9  \n",
       "0      NaN       NaN       NaN         NaN  \n",
       "1      NaN       NaN       NaN         NaN  \n",
       "2      NaN       NaN       NaN         NaN  \n",
       "3      NaN       NaN       NaN         NaN  \n",
       "4      NaN       NaN       NaN         NaN  "
      ]
     },
     "execution_count": 20,
     "metadata": {},
     "output_type": "execute_result"
    }
   ],
   "source": [
    "download_url('https://op.mos.ru/EHDWSREST/catalog/export/get?id='+str(ids[4]), temp_file)\n",
    "df = pd.read_csv(temp_file, sep=';', encoding='cp1251')\n",
    "df = df[df.global_id != 'global_id']\n",
    "df.head()"
   ]
  },
  {
   "cell_type": "code",
   "execution_count": 21,
   "metadata": {},
   "outputs": [],
   "source": [
    "df[['route_id', 'trip_id', 'service_id',\n",
    "   'trip_headsign', 'block_id']].to_csv('data/gtfs/trips.txt', sep=',', index=False)"
   ]
  },
  {
   "cell_type": "markdown",
   "metadata": {},
   "source": [
    "## agency.txt"
   ]
  },
  {
   "cell_type": "code",
   "execution_count": 29,
   "metadata": {},
   "outputs": [
    {
     "name": "stderr",
     "output_type": "stream",
     "text": [
      "/usr/local/lib/python3.6/site-packages/pandas/core/ops.py:1649: FutureWarning: elementwise comparison failed; returning scalar instead, but in the future will perform elementwise comparison\n",
      "  result = method(y)\n"
     ]
    }
   ],
   "source": [
    "download_url('https://op.mos.ru/EHDWSREST/catalog/export/get?id='+str(ids[5]), temp_file)\n",
    "df = pd.read_csv(temp_file, sep=';', encoding='cp1251')\n",
    "df = df[df.global_id != 'global_id']\n",
    "df = df.rename(columns = {'agency_code':'agency_id'})\n",
    "df[['agency_id', 'agency_name',\n",
    "   'agency_url', 'agency_timezone']].to_csv('data/gtfs/agency.txt', sep=',', index=False)"
   ]
  },
  {
   "cell_type": "code",
   "execution_count": 30,
   "metadata": {},
   "outputs": [
    {
     "data": {
      "text/html": [
       "<div>\n",
       "<style scoped>\n",
       "    .dataframe tbody tr th:only-of-type {\n",
       "        vertical-align: middle;\n",
       "    }\n",
       "\n",
       "    .dataframe tbody tr th {\n",
       "        vertical-align: top;\n",
       "    }\n",
       "\n",
       "    .dataframe thead th {\n",
       "        text-align: right;\n",
       "    }\n",
       "</style>\n",
       "<table border=\"1\" class=\"dataframe\">\n",
       "  <thead>\n",
       "    <tr style=\"text-align: right;\">\n",
       "      <th></th>\n",
       "      <th>global_id</th>\n",
       "      <th>agency_id</th>\n",
       "      <th>agency_name</th>\n",
       "      <th>agency_url</th>\n",
       "      <th>agency_timezone</th>\n",
       "      <th>Unnamed: 5</th>\n",
       "    </tr>\n",
       "  </thead>\n",
       "  <tbody>\n",
       "    <tr>\n",
       "      <th>0</th>\n",
       "      <td>833043746</td>\n",
       "      <td>1</td>\n",
       "      <td>ООО «Трансавтолиз»</td>\n",
       "      <td>http://www.avtoline.ru/</td>\n",
       "      <td>Europe/Moscow</td>\n",
       "      <td>NaN</td>\n",
       "    </tr>\n",
       "    <tr>\n",
       "      <th>1</th>\n",
       "      <td>833043750</td>\n",
       "      <td>2</td>\n",
       "      <td>ООО «Альфа-Грант»</td>\n",
       "      <td>http://alfa-grant.ru/</td>\n",
       "      <td>Europe/Moscow</td>\n",
       "      <td>NaN</td>\n",
       "    </tr>\n",
       "  </tbody>\n",
       "</table>\n",
       "</div>"
      ],
      "text/plain": [
       "   global_id  agency_id         agency_name               agency_url  \\\n",
       "0  833043746          1  ООО «Трансавтолиз»  http://www.avtoline.ru/   \n",
       "1  833043750          2   ООО «Альфа-Грант»    http://alfa-grant.ru/   \n",
       "\n",
       "  agency_timezone  Unnamed: 5  \n",
       "0   Europe/Moscow         NaN  \n",
       "1   Europe/Moscow         NaN  "
      ]
     },
     "execution_count": 30,
     "metadata": {},
     "output_type": "execute_result"
    }
   ],
   "source": [
    "df.head(2)"
   ]
  },
  {
   "cell_type": "code",
   "execution_count": 24,
   "metadata": {},
   "outputs": [],
   "source": [
    "os.remove(temp_file)"
   ]
  },
  {
   "cell_type": "markdown",
   "metadata": {},
   "source": [
    "# Metro mos.ru"
   ]
  },
  {
   "cell_type": "markdown",
   "metadata": {},
   "source": [
    "***agency.txt***\tОбязат.\tТранспортные агентства, услуги которых представлены в наборе данных.\n",
    "\n",
    "\n",
    "***stops.txt***\tОбязат.\tОстановки, на которых транспортные средства забирают или высаживают пассажиров. Также определяет станции и входы в них.\n",
    "\n",
    "\n",
    "***routes.txt***\tОбязат.\tМаршруты общественного транспорта (совокупность рейсов, на которых пассажирам оказывается единая транспортная услуга).\n",
    "\n",
    "\n",
    "***trips.txt***\tОбязат.\tРейсы для каждого маршрута (последовательности из двух или более остановок, на которых транспортное средство останавливается в указанное время).\n",
    "\n",
    "\n",
    "***stop_times.txt***\tОбязат.\tВремя, когда транспортное средство прибывает на остановки и отправляется от них, выполняя тот или иной рейс.\n",
    "\n",
    "\n",
    "***calendar.txt***\tУсловно обязат.\tДаты обслуживания, указанные в виде еженедельных периодов с датами начала и окончания. Это поле должно быть заполнено всегда, кроме случаев, когда календарь доступности услуг определен в файле calendar_dates.txt."
   ]
  },
  {
   "cell_type": "markdown",
   "metadata": {},
   "source": [
    "## agency.txt"
   ]
  },
  {
   "cell_type": "code",
   "execution_count": 58,
   "metadata": {},
   "outputs": [],
   "source": [
    "download_url('https://op.mos.ru/EHDWSREST/catalog/export/get?id='+str(847226), temp_file)\n",
    "df = pd.read_json(temp_file, encoding='cp1251')"
   ]
  },
  {
   "cell_type": "code",
   "execution_count": 44,
   "metadata": {},
   "outputs": [
    {
     "data": {
      "text/plain": [
       "9"
      ]
     },
     "execution_count": 44,
     "metadata": {},
     "output_type": "execute_result"
    }
   ],
   "source": [
    "agencies = pd.read_csv('data/gtfs/agency.txt')\n",
    "max_agency_id = agencies.agency_id.max()\n",
    "max_agency_id"
   ]
  },
  {
   "cell_type": "code",
   "execution_count": 49,
   "metadata": {},
   "outputs": [],
   "source": [
    "pd.concat([\n",
    "    agencies,\n",
    "    pd.DataFrame([{'agency_id':max_agency_id+1,\n",
    " 'agency_name':'ГУП «Московский метрополитен»',\n",
    " 'agency_url':'http://gup.mosmetro.ru/',\n",
    " 'agency_timezone':'Europe/Moscow'}])\n",
    "], sort=False, ignore_index=True).to_csv('data/gtfs/agency.txt', sep=',', index=False)\n",
    "\n",
    "del agencies\n",
    "del max_agency_id"
   ]
  },
  {
   "cell_type": "markdown",
   "metadata": {},
   "source": [
    "## stops.txt"
   ]
  },
  {
   "cell_type": "code",
   "execution_count": 93,
   "metadata": {},
   "outputs": [],
   "source": [
    "download_url('https://op.mos.ru/EHDWSREST/catalog/export/get?id='+str(847226), temp_file)\n",
    "df = pd.read_json(temp_file, encoding='cp1251')"
   ]
  },
  {
   "cell_type": "code",
   "execution_count": 95,
   "metadata": {},
   "outputs": [
    {
     "data": {
      "text/plain": [
       "1009017"
      ]
     },
     "execution_count": 95,
     "metadata": {},
     "output_type": "execute_result"
    }
   ],
   "source": [
    "stops = pd.read_csv('data/gtfs/stops.txt')\n",
    "max_stop_id = stops.stop_id.max()\n",
    "max_stop_id"
   ]
  },
  {
   "cell_type": "code",
   "execution_count": 97,
   "metadata": {},
   "outputs": [],
   "source": [
    "df['stop_name'] = df['Name']\n",
    "df['stop_lon'] = df['Longitude_WGS84']\n",
    "df['stop_lat'] = df['Latitude_WGS84']"
   ]
  },
  {
   "cell_type": "code",
   "execution_count": 98,
   "metadata": {},
   "outputs": [
    {
     "data": {
      "text/html": [
       "<div>\n",
       "<style scoped>\n",
       "    .dataframe tbody tr th:only-of-type {\n",
       "        vertical-align: middle;\n",
       "    }\n",
       "\n",
       "    .dataframe tbody tr th {\n",
       "        vertical-align: top;\n",
       "    }\n",
       "\n",
       "    .dataframe thead th {\n",
       "        text-align: right;\n",
       "    }\n",
       "</style>\n",
       "<table border=\"1\" class=\"dataframe\">\n",
       "  <thead>\n",
       "    <tr style=\"text-align: right;\">\n",
       "      <th></th>\n",
       "      <th>Line</th>\n",
       "      <th>stop_name</th>\n",
       "      <th>stop_lon</th>\n",
       "      <th>stop_lat</th>\n",
       "      <th>location_type</th>\n",
       "      <th>parent_station</th>\n",
       "      <th>stop_id</th>\n",
       "    </tr>\n",
       "  </thead>\n",
       "  <tbody>\n",
       "    <tr>\n",
       "      <th>0</th>\n",
       "      <td>Арбатско-Покровская линия</td>\n",
       "      <td>Арбатская</td>\n",
       "      <td>37.603279</td>\n",
       "      <td>55.752386</td>\n",
       "      <td>1</td>\n",
       "      <td>None</td>\n",
       "      <td>1009018</td>\n",
       "    </tr>\n",
       "    <tr>\n",
       "      <th>1</th>\n",
       "      <td>Арбатско-Покровская линия</td>\n",
       "      <td>Бауманская</td>\n",
       "      <td>37.678778</td>\n",
       "      <td>55.772359</td>\n",
       "      <td>1</td>\n",
       "      <td>None</td>\n",
       "      <td>1009019</td>\n",
       "    </tr>\n",
       "    <tr>\n",
       "      <th>2</th>\n",
       "      <td>Арбатско-Покровская линия</td>\n",
       "      <td>Волоколамская</td>\n",
       "      <td>37.382366</td>\n",
       "      <td>55.835529</td>\n",
       "      <td>1</td>\n",
       "      <td>None</td>\n",
       "      <td>1009020</td>\n",
       "    </tr>\n",
       "    <tr>\n",
       "      <th>3</th>\n",
       "      <td>Арбатско-Покровская линия</td>\n",
       "      <td>Измайловская</td>\n",
       "      <td>37.781429</td>\n",
       "      <td>55.787719</td>\n",
       "      <td>1</td>\n",
       "      <td>None</td>\n",
       "      <td>1009021</td>\n",
       "    </tr>\n",
       "    <tr>\n",
       "      <th>4</th>\n",
       "      <td>Арбатско-Покровская линия</td>\n",
       "      <td>Киевская</td>\n",
       "      <td>37.564620</td>\n",
       "      <td>55.743009</td>\n",
       "      <td>1</td>\n",
       "      <td>None</td>\n",
       "      <td>1009022</td>\n",
       "    </tr>\n",
       "  </tbody>\n",
       "</table>\n",
       "</div>"
      ],
      "text/plain": [
       "                        Line      stop_name   stop_lon   stop_lat  \\\n",
       "0  Арбатско-Покровская линия      Арбатская  37.603279  55.752386   \n",
       "1  Арбатско-Покровская линия     Бауманская  37.678778  55.772359   \n",
       "2  Арбатско-Покровская линия  Волоколамская  37.382366  55.835529   \n",
       "3  Арбатско-Покровская линия   Измайловская  37.781429  55.787719   \n",
       "4  Арбатско-Покровская линия       Киевская  37.564620  55.743009   \n",
       "\n",
       "   location_type parent_station  stop_id  \n",
       "0              1           None  1009018  \n",
       "1              1           None  1009019  \n",
       "2              1           None  1009020  \n",
       "3              1           None  1009021  \n",
       "4              1           None  1009022  "
      ]
     },
     "execution_count": 98,
     "metadata": {},
     "output_type": "execute_result"
    }
   ],
   "source": [
    "main_stations = df.groupby(['Line', 'NameOfStation']).mean()[['stop_lon', 'stop_lat']].reset_index()\n",
    "main_stations['location_type'] = 1\n",
    "main_stations['parent_station'] = None\n",
    "main_stations = main_stations.rename(columns={'NameOfStation':'stop_name'})\n",
    "main_stations['stop_id'] = range(max_stop_id+1, max_stop_id+1+len(main_stations))\n",
    "main_stations.head()"
   ]
  },
  {
   "cell_type": "code",
   "execution_count": 99,
   "metadata": {},
   "outputs": [],
   "source": [
    "df = df.merge(main_stations[['Line',\n",
    "               'stop_name',\n",
    "               'stop_id']].rename(columns={'stop_id':'parent_station',\n",
    "                                          'stop_name':'NameOfStation'}),\n",
    "        on=['NameOfStation', 'Line'])"
   ]
  },
  {
   "cell_type": "code",
   "execution_count": 100,
   "metadata": {},
   "outputs": [
    {
     "data": {
      "text/plain": [
       "1009282"
      ]
     },
     "execution_count": 100,
     "metadata": {},
     "output_type": "execute_result"
    }
   ],
   "source": [
    "max_stop_id = main_stations.stop_id.max()\n",
    "max_stop_id"
   ]
  },
  {
   "cell_type": "code",
   "execution_count": 105,
   "metadata": {},
   "outputs": [],
   "source": [
    "df['stop_id'] = range(max_stop_id+1, max_stop_id+1+len(df))\n",
    "df['location_type'] = 2"
   ]
  },
  {
   "cell_type": "code",
   "execution_count": 116,
   "metadata": {},
   "outputs": [
    {
     "data": {
      "text/html": [
       "<div>\n",
       "<style scoped>\n",
       "    .dataframe tbody tr th:only-of-type {\n",
       "        vertical-align: middle;\n",
       "    }\n",
       "\n",
       "    .dataframe tbody tr th {\n",
       "        vertical-align: top;\n",
       "    }\n",
       "\n",
       "    .dataframe thead th {\n",
       "        text-align: right;\n",
       "    }\n",
       "</style>\n",
       "<table border=\"1\" class=\"dataframe\">\n",
       "  <thead>\n",
       "    <tr style=\"text-align: right;\">\n",
       "      <th></th>\n",
       "      <th>stop_id</th>\n",
       "      <th>stop_name</th>\n",
       "      <th>stop_lon</th>\n",
       "      <th>stop_lat</th>\n",
       "      <th>location_type</th>\n",
       "      <th>parent_station</th>\n",
       "    </tr>\n",
       "  </thead>\n",
       "  <tbody>\n",
       "    <tr>\n",
       "      <th>0</th>\n",
       "      <td>1009283</td>\n",
       "      <td>Китай-город, вход-выход 9 в северный вестибюль</td>\n",
       "      <td>37.631677</td>\n",
       "      <td>55.757315</td>\n",
       "      <td>2</td>\n",
       "      <td>1009090</td>\n",
       "    </tr>\n",
       "    <tr>\n",
       "      <th>1</th>\n",
       "      <td>1009284</td>\n",
       "      <td>Китай-город, вход-выход 4 в северный вестибюль</td>\n",
       "      <td>37.631205</td>\n",
       "      <td>55.756855</td>\n",
       "      <td>2</td>\n",
       "      <td>1009090</td>\n",
       "    </tr>\n",
       "    <tr>\n",
       "      <th>2</th>\n",
       "      <td>1009285</td>\n",
       "      <td>Китай-город, вход-выход 6 в северный вестибюль</td>\n",
       "      <td>37.631951</td>\n",
       "      <td>55.757236</td>\n",
       "      <td>2</td>\n",
       "      <td>1009090</td>\n",
       "    </tr>\n",
       "    <tr>\n",
       "      <th>3</th>\n",
       "      <td>1009286</td>\n",
       "      <td>Китай-город, вход-выход 14 в южный вестибюль</td>\n",
       "      <td>37.633082</td>\n",
       "      <td>55.753098</td>\n",
       "      <td>2</td>\n",
       "      <td>1009090</td>\n",
       "    </tr>\n",
       "    <tr>\n",
       "      <th>4</th>\n",
       "      <td>1009287</td>\n",
       "      <td>Китай-город, вход-выход 12 в южный вестибюль</td>\n",
       "      <td>37.633559</td>\n",
       "      <td>55.753072</td>\n",
       "      <td>2</td>\n",
       "      <td>1009090</td>\n",
       "    </tr>\n",
       "  </tbody>\n",
       "</table>\n",
       "</div>"
      ],
      "text/plain": [
       "   stop_id                                       stop_name   stop_lon  \\\n",
       "0  1009283  Китай-город, вход-выход 9 в северный вестибюль  37.631677   \n",
       "1  1009284  Китай-город, вход-выход 4 в северный вестибюль  37.631205   \n",
       "2  1009285  Китай-город, вход-выход 6 в северный вестибюль  37.631951   \n",
       "3  1009286    Китай-город, вход-выход 14 в южный вестибюль  37.633082   \n",
       "4  1009287    Китай-город, вход-выход 12 в южный вестибюль  37.633559   \n",
       "\n",
       "    stop_lat  location_type parent_station  \n",
       "0  55.757315              2        1009090  \n",
       "1  55.756855              2        1009090  \n",
       "2  55.757236              2        1009090  \n",
       "3  55.753098              2        1009090  \n",
       "4  55.753072              2        1009090  "
      ]
     },
     "execution_count": 116,
     "metadata": {},
     "output_type": "execute_result"
    }
   ],
   "source": [
    "stops = pd.concat([df[['stop_id', 'stop_name', 'stop_lon', 'stop_lat', 'location_type', 'parent_station']],\n",
    "         main_stations[['stop_id', 'stop_name', 'stop_lon', 'stop_lat', 'location_type', 'parent_station']],\n",
    "          stops],\n",
    "         sort=False,\n",
    "         ignore_index=True)\n",
    "stops.to_csv('data/gtfs/stops.txt', sep=',', index=False)\n",
    "stops.head()"
   ]
  },
  {
   "cell_type": "markdown",
   "metadata": {},
   "source": [
    "## routes.txt"
   ]
  },
  {
   "cell_type": "markdown",
   "metadata": {},
   "source": [
    "***route_id***\tИдентификатор\tОбязат.\tОпределяет маршрут.\n",
    "\n",
    "\n",
    "***agency_id***\tИдентификатор из поля agency.agency_id\tУсловно обязат.\tАгентство для указанного маршрута. Это поле является обязательным, если в файле agency.txt представлены данные о маршрутах нескольких разных агентств.\n",
    "\n",
    "\n",
    "***route_short_name***\tТекст\tУсловно обязат.\tКраткое название маршрута: используемое пассажирами абстрактное обозначение (например, \"32\", 100X, \"зеленая линия\"), которое не содержит информацию о местах следования маршрута. Необходимо указать значение хотя бы одного из этих полей (route_short_name или route_long_name). При желании можно задать их оба.\n",
    "\n",
    "\n",
    "***route_long_name***\tТекст\tУсловно обязат.\tПолное название маршрута: более описательное, чем у route_short_name, часто с названием пункта назначения или остановки маршрута. Необходимо указать значение хотя бы одного из этих полей (route_short_name или route_long_name). При желании можно задать их оба.\n",
    "\n",
    "***route_type***\tПеречисление\tОбязат.\tТип транспорта, используемого на маршруте. Допустимые значения:\n",
    "\n",
    "0 – трамвай, легкая железная дорога, любые другие системы легкорельсового уличного транспорта в пределах мегаполиса.\n",
    "1 – метро и любые другие системы подземного железнодорожного транспорта в пределах мегаполиса.\n",
    "2 – железная дорога для пригородных и междугородних перевозок.\n",
    "3 – автобусы (внутригородские и междугородние).\n",
    "4 – паромы (независимо от протяженности маршрутов).\n",
    "5 – канатные трамваи и системы уличного транспорта с подвагонным приводным тросом, такие как канатные трамваи в Сан-Франциско.\n",
    "6 – подъемники, подвесные канатные трамваи и другие виды транспорта, в которых кабины, вагоны или кресла удерживаются одним или несколькими тросами.\n",
    "7 – фуникулеры и любые другие системы железнодорожного транспорта, предназначенные для движения по крутым склонам.\n",
    "11 – троллейбусы и электробусы, получающие электрический ток через двухпроводную контактную сеть, расположенную над ними.\n",
    "12 – монорельсовый транспорт, в котором используется один несущий рельс."
   ]
  },
  {
   "cell_type": "code",
   "execution_count": 120,
   "metadata": {},
   "outputs": [
    {
     "name": "stdout",
     "output_type": "stream",
     "text": [
      "14150253\n"
     ]
    },
    {
     "data": {
      "text/html": [
       "<div>\n",
       "<style scoped>\n",
       "    .dataframe tbody tr th:only-of-type {\n",
       "        vertical-align: middle;\n",
       "    }\n",
       "\n",
       "    .dataframe tbody tr th {\n",
       "        vertical-align: top;\n",
       "    }\n",
       "\n",
       "    .dataframe thead th {\n",
       "        text-align: right;\n",
       "    }\n",
       "</style>\n",
       "<table border=\"1\" class=\"dataframe\">\n",
       "  <thead>\n",
       "    <tr style=\"text-align: right;\">\n",
       "      <th></th>\n",
       "      <th>route_id</th>\n",
       "      <th>agency_id</th>\n",
       "      <th>route_short_name</th>\n",
       "      <th>route_long_name</th>\n",
       "      <th>route_type</th>\n",
       "      <th>route_desc</th>\n",
       "    </tr>\n",
       "  </thead>\n",
       "  <tbody>\n",
       "    <tr>\n",
       "      <th>0</th>\n",
       "      <td>14150158</td>\n",
       "      <td>1</td>\n",
       "      <td>597</td>\n",
       "      <td>Метро \"Сокол\" - Набережная Новикова-Прибоя</td>\n",
       "      <td>3</td>\n",
       "      <td>NaN</td>\n",
       "    </tr>\n",
       "    <tr>\n",
       "      <th>1</th>\n",
       "      <td>14150132</td>\n",
       "      <td>2</td>\n",
       "      <td>380</td>\n",
       "      <td>Ст. МЦД Дегунино - Пр. Русанова</td>\n",
       "      <td>3</td>\n",
       "      <td>NaN</td>\n",
       "    </tr>\n",
       "  </tbody>\n",
       "</table>\n",
       "</div>"
      ],
      "text/plain": [
       "   route_id  agency_id route_short_name  \\\n",
       "0  14150158          1              597   \n",
       "1  14150132          2              380   \n",
       "\n",
       "                              route_long_name  route_type  route_desc  \n",
       "0  Метро \"Сокол\" - Набережная Новикова-Прибоя           3         NaN  \n",
       "1             Ст. МЦД Дегунино - Пр. Русанова           3         NaN  "
      ]
     },
     "execution_count": 120,
     "metadata": {},
     "output_type": "execute_result"
    }
   ],
   "source": [
    "routes = pd.read_csv('data/gtfs/routes.txt')\n",
    "max_route_id = routes.route_id.max()\n",
    "print(max_route_id)\n",
    "routes.head(2)"
   ]
  },
  {
   "cell_type": "code",
   "execution_count": 129,
   "metadata": {},
   "outputs": [
    {
     "data": {
      "text/html": [
       "<div>\n",
       "<style scoped>\n",
       "    .dataframe tbody tr th:only-of-type {\n",
       "        vertical-align: middle;\n",
       "    }\n",
       "\n",
       "    .dataframe tbody tr th {\n",
       "        vertical-align: top;\n",
       "    }\n",
       "\n",
       "    .dataframe thead th {\n",
       "        text-align: right;\n",
       "    }\n",
       "</style>\n",
       "<table border=\"1\" class=\"dataframe\">\n",
       "  <thead>\n",
       "    <tr style=\"text-align: right;\">\n",
       "      <th></th>\n",
       "      <th>route_long_name</th>\n",
       "      <th>route_id</th>\n",
       "      <th>agency_id</th>\n",
       "      <th>route_type</th>\n",
       "      <th>route_short_name</th>\n",
       "      <th>route_desc</th>\n",
       "    </tr>\n",
       "  </thead>\n",
       "  <tbody>\n",
       "    <tr>\n",
       "      <th>0</th>\n",
       "      <td>Калужско-Рижская линия</td>\n",
       "      <td>14150254</td>\n",
       "      <td>10</td>\n",
       "      <td>1</td>\n",
       "      <td>NaN</td>\n",
       "      <td>NaN</td>\n",
       "    </tr>\n",
       "    <tr>\n",
       "      <th>1</th>\n",
       "      <td>Люблинско-Дмитровская линия</td>\n",
       "      <td>14150255</td>\n",
       "      <td>10</td>\n",
       "      <td>1</td>\n",
       "      <td>NaN</td>\n",
       "      <td>NaN</td>\n",
       "    </tr>\n",
       "    <tr>\n",
       "      <th>2</th>\n",
       "      <td>Бутовская линия Лёгкого метро</td>\n",
       "      <td>14150256</td>\n",
       "      <td>10</td>\n",
       "      <td>1</td>\n",
       "      <td>NaN</td>\n",
       "      <td>NaN</td>\n",
       "    </tr>\n",
       "    <tr>\n",
       "      <th>3</th>\n",
       "      <td>Серпуховско-Тимирязевская линия</td>\n",
       "      <td>14150257</td>\n",
       "      <td>10</td>\n",
       "      <td>1</td>\n",
       "      <td>NaN</td>\n",
       "      <td>NaN</td>\n",
       "    </tr>\n",
       "    <tr>\n",
       "      <th>4</th>\n",
       "      <td>Каховская линия</td>\n",
       "      <td>14150258</td>\n",
       "      <td>10</td>\n",
       "      <td>1</td>\n",
       "      <td>NaN</td>\n",
       "      <td>NaN</td>\n",
       "    </tr>\n",
       "  </tbody>\n",
       "</table>\n",
       "</div>"
      ],
      "text/plain": [
       "                   route_long_name  route_id  agency_id  route_type  \\\n",
       "0           Калужско-Рижская линия  14150254         10           1   \n",
       "1      Люблинско-Дмитровская линия  14150255         10           1   \n",
       "2    Бутовская линия Лёгкого метро  14150256         10           1   \n",
       "3  Серпуховско-Тимирязевская линия  14150257         10           1   \n",
       "4                  Каховская линия  14150258         10           1   \n",
       "\n",
       "  route_short_name  route_desc  \n",
       "0              NaN         NaN  \n",
       "1              NaN         NaN  \n",
       "2              NaN         NaN  \n",
       "3              NaN         NaN  \n",
       "4              NaN         NaN  "
      ]
     },
     "execution_count": 129,
     "metadata": {},
     "output_type": "execute_result"
    }
   ],
   "source": [
    "metro_routes = df.drop_duplicates(subset='Line').reset_index(drop=True)[['Line']]\n",
    "metro_routes.columns = ['route_long_name']\n",
    "metro_routes['route_id'] = range(max_route_id+1, max_route_id+1+len(metro_routes))\n",
    "metro_routes['agency_id'] = 10\n",
    "metro_routes['route_type'] = 1\n",
    "routes = pd.concat([metro_routes,\n",
    "          routes],\n",
    "         sort=False,\n",
    "         ignore_index=True)\n",
    "routes.to_csv('data/gtfs/routes.txt', index=False, sep=',')\n",
    "routes.head()"
   ]
  },
  {
   "cell_type": "code",
   "execution_count": 131,
   "metadata": {},
   "outputs": [],
   "source": [
    "os.remove(temp_file)"
   ]
  },
  {
   "cell_type": "code",
   "execution_count": null,
   "metadata": {
    "collapsed": true
   },
   "outputs": [],
   "source": []
  }
 ],
 "metadata": {
  "kernelspec": {
   "display_name": "Python 3",
   "language": "python",
   "name": "python3"
  },
  "language_info": {
   "codemirror_mode": {
    "name": "ipython",
    "version": 3
   },
   "file_extension": ".py",
   "mimetype": "text/x-python",
   "name": "python",
   "nbconvert_exporter": "python",
   "pygments_lexer": "ipython3",
   "version": "3.6.5"
  }
 },
 "nbformat": 4,
 "nbformat_minor": 2
}
