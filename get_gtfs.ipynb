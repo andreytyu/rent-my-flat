{
 "cells": [
  {
   "cell_type": "code",
   "execution_count": 159,
   "metadata": {},
   "outputs": [],
   "source": [
    "import requests\n",
    "import pandas as pd\n",
    "import requests \n",
    "import os"
   ]
  },
  {
   "cell_type": "code",
   "execution_count": 161,
   "metadata": {},
   "outputs": [],
   "source": [
    "url = 'https://op.mos.ru/EHDWSREST/catalog/export/get?id='\n",
    "ids = [785561, 785489, 785513, 785597, 785477, 784213]"
   ]
  },
  {
   "cell_type": "code",
   "execution_count": 162,
   "metadata": {},
   "outputs": [],
   "source": [
    "temp_file = 'temp.zip'"
   ]
  },
  {
   "cell_type": "code",
   "execution_count": 163,
   "metadata": {},
   "outputs": [],
   "source": [
    "def download_url(url, save_path, chunk_size=128):\n",
    "    r = requests.get(url, stream=True)\n",
    "    with open(save_path, 'wb') as fd:\n",
    "        for chunk in r.iter_content(chunk_size=chunk_size):\n",
    "            fd.write(chunk)"
   ]
  },
  {
   "cell_type": "markdown",
   "metadata": {},
   "source": [
    "# calendar.txt"
   ]
  },
  {
   "cell_type": "code",
   "execution_count": 219,
   "metadata": {},
   "outputs": [],
   "source": [
    "download_url('https://op.mos.ru/EHDWSREST/catalog/export/get?id='+str(ids[0]), temp_file)"
   ]
  },
  {
   "cell_type": "code",
   "execution_count": 222,
   "metadata": {},
   "outputs": [
    {
     "data": {
      "text/html": [
       "<div>\n",
       "<style scoped>\n",
       "    .dataframe tbody tr th:only-of-type {\n",
       "        vertical-align: middle;\n",
       "    }\n",
       "\n",
       "    .dataframe tbody tr th {\n",
       "        vertical-align: top;\n",
       "    }\n",
       "\n",
       "    .dataframe thead th {\n",
       "        text-align: right;\n",
       "    }\n",
       "</style>\n",
       "<table border=\"1\" class=\"dataframe\">\n",
       "  <thead>\n",
       "    <tr style=\"text-align: right;\">\n",
       "      <th></th>\n",
       "      <th>global_id</th>\n",
       "      <th>service_id</th>\n",
       "      <th>monday</th>\n",
       "      <th>tuesday</th>\n",
       "      <th>wednesday</th>\n",
       "      <th>thursday</th>\n",
       "      <th>friday</th>\n",
       "      <th>saturday</th>\n",
       "      <th>sunday</th>\n",
       "      <th>start_date</th>\n",
       "      <th>end_date</th>\n",
       "      <th>Unnamed: 11</th>\n",
       "    </tr>\n",
       "  </thead>\n",
       "  <tbody>\n",
       "    <tr>\n",
       "      <th>0</th>\n",
       "      <td>833044189</td>\n",
       "      <td>3</td>\n",
       "      <td>1</td>\n",
       "      <td>1</td>\n",
       "      <td>1</td>\n",
       "      <td>1</td>\n",
       "      <td>1</td>\n",
       "      <td>0</td>\n",
       "      <td>0</td>\n",
       "      <td>20190501</td>\n",
       "      <td>20190930</td>\n",
       "      <td>NaN</td>\n",
       "    </tr>\n",
       "    <tr>\n",
       "      <th>1</th>\n",
       "      <td>833044708</td>\n",
       "      <td>4</td>\n",
       "      <td>0</td>\n",
       "      <td>0</td>\n",
       "      <td>0</td>\n",
       "      <td>0</td>\n",
       "      <td>0</td>\n",
       "      <td>1</td>\n",
       "      <td>1</td>\n",
       "      <td>20190501</td>\n",
       "      <td>20190930</td>\n",
       "      <td>NaN</td>\n",
       "    </tr>\n",
       "  </tbody>\n",
       "</table>\n",
       "</div>"
      ],
      "text/plain": [
       "   global_id service_id monday tuesday wednesday thursday friday saturday  \\\n",
       "0  833044189          3      1       1         1        1      1        0   \n",
       "1  833044708          4      0       0         0        0      0        1   \n",
       "\n",
       "  sunday start_date  end_date  Unnamed: 11  \n",
       "0      0   20190501  20190930          NaN  \n",
       "1      1   20190501  20190930          NaN  "
      ]
     },
     "execution_count": 222,
     "metadata": {},
     "output_type": "execute_result"
    }
   ],
   "source": [
    "a = pd.read_csv(temp_file, sep=';', encoding='cp1251')\n",
    "a = a[a.global_id != 'global_id']\n",
    "a[['service_id', 'monday', 'tuesday', 'wednesday', 'thursday',\n",
    "   'friday', 'saturday', 'sunday', 'start_date',\n",
    "   'end_date']].to_csv('data/gtfs/calendar.txt', sep=',', index=False)\n",
    "a.head(2)"
   ]
  },
  {
   "cell_type": "markdown",
   "metadata": {},
   "source": [
    "# routes.txt"
   ]
  },
  {
   "cell_type": "code",
   "execution_count": 224,
   "metadata": {},
   "outputs": [],
   "source": [
    "download_url('https://op.mos.ru/EHDWSREST/catalog/export/get?id='+str(ids[1]), temp_file)"
   ]
  },
  {
   "cell_type": "code",
   "execution_count": 225,
   "metadata": {},
   "outputs": [
    {
     "data": {
      "text/plain": [
       "array(['3', '5', '0'], dtype=object)"
      ]
     },
     "execution_count": 225,
     "metadata": {},
     "output_type": "execute_result"
    }
   ],
   "source": [
    "a = pd.read_csv(temp_file, sep=';', encoding='cp1251')\n",
    "a = a[a.global_id != 'global_id']\n",
    "a = a[['route_id', 'agency_code', 'route_short_name', 'route_long_name', 'route_type', 'route_desc']]\n",
    "a = a.rename(columns = {'agency_code':'agency_id'})\n",
    "a.route_type.unique()"
   ]
  },
  {
   "cell_type": "code",
   "execution_count": 226,
   "metadata": {},
   "outputs": [],
   "source": [
    "a.route_type = a.route_type.replace('5', '11')"
   ]
  },
  {
   "cell_type": "code",
   "execution_count": 227,
   "metadata": {},
   "outputs": [
    {
     "data": {
      "text/html": [
       "<div>\n",
       "<style scoped>\n",
       "    .dataframe tbody tr th:only-of-type {\n",
       "        vertical-align: middle;\n",
       "    }\n",
       "\n",
       "    .dataframe tbody tr th {\n",
       "        vertical-align: top;\n",
       "    }\n",
       "\n",
       "    .dataframe thead th {\n",
       "        text-align: right;\n",
       "    }\n",
       "</style>\n",
       "<table border=\"1\" class=\"dataframe\">\n",
       "  <thead>\n",
       "    <tr style=\"text-align: right;\">\n",
       "      <th></th>\n",
       "      <th>route_id</th>\n",
       "      <th>agency_id</th>\n",
       "      <th>route_short_name</th>\n",
       "      <th>route_long_name</th>\n",
       "      <th>route_type</th>\n",
       "      <th>route_desc</th>\n",
       "    </tr>\n",
       "  </thead>\n",
       "  <tbody>\n",
       "    <tr>\n",
       "      <th>0</th>\n",
       "      <td>14150158</td>\n",
       "      <td>1</td>\n",
       "      <td>597</td>\n",
       "      <td>Метро \"Сокол\" - Набережная Новикова-Прибоя</td>\n",
       "      <td>3</td>\n",
       "      <td>NaN</td>\n",
       "    </tr>\n",
       "    <tr>\n",
       "      <th>1</th>\n",
       "      <td>14150132</td>\n",
       "      <td>2</td>\n",
       "      <td>380</td>\n",
       "      <td>Ст. МЦД Дегунино - Пр. Русанова</td>\n",
       "      <td>3</td>\n",
       "      <td>NaN</td>\n",
       "    </tr>\n",
       "  </tbody>\n",
       "</table>\n",
       "</div>"
      ],
      "text/plain": [
       "   route_id agency_id route_short_name  \\\n",
       "0  14150158         1              597   \n",
       "1  14150132         2              380   \n",
       "\n",
       "                              route_long_name route_type route_desc  \n",
       "0  Метро \"Сокол\" - Набережная Новикова-Прибоя          3        NaN  \n",
       "1             Ст. МЦД Дегунино - Пр. Русанова          3        NaN  "
      ]
     },
     "execution_count": 227,
     "metadata": {},
     "output_type": "execute_result"
    }
   ],
   "source": [
    "a.to_csv('data/gtfs/routes.txt', sep=',', index=False)\n",
    "a.head(2)"
   ]
  },
  {
   "cell_type": "markdown",
   "metadata": {},
   "source": [
    "# stops.txt"
   ]
  },
  {
   "cell_type": "code",
   "execution_count": 210,
   "metadata": {},
   "outputs": [
    {
     "data": {
      "text/html": [
       "<div>\n",
       "<style scoped>\n",
       "    .dataframe tbody tr th:only-of-type {\n",
       "        vertical-align: middle;\n",
       "    }\n",
       "\n",
       "    .dataframe tbody tr th {\n",
       "        vertical-align: top;\n",
       "    }\n",
       "\n",
       "    .dataframe thead th {\n",
       "        text-align: right;\n",
       "    }\n",
       "</style>\n",
       "<table border=\"1\" class=\"dataframe\">\n",
       "  <thead>\n",
       "    <tr style=\"text-align: right;\">\n",
       "      <th></th>\n",
       "      <th>global_id</th>\n",
       "      <th>stop_id</th>\n",
       "      <th>stop_name</th>\n",
       "      <th>StationName</th>\n",
       "      <th>Street</th>\n",
       "      <th>Direction</th>\n",
       "      <th>Pavilion</th>\n",
       "      <th>OperatingOrgName</th>\n",
       "      <th>geoData</th>\n",
       "      <th>Unnamed: 9</th>\n",
       "      <th>location_type</th>\n",
       "    </tr>\n",
       "  </thead>\n",
       "  <tbody>\n",
       "    <tr>\n",
       "      <th>0</th>\n",
       "      <td>833043944</td>\n",
       "      <td>3630</td>\n",
       "      <td>5-я Парковая ул.</td>\n",
       "      <td>NaN</td>\n",
       "      <td>NaN</td>\n",
       "      <td>NaN</td>\n",
       "      <td>NaN</td>\n",
       "      <td>NaN</td>\n",
       "      <td>{type=Point, coordinates=[37.78753642, 55.7929...</td>\n",
       "      <td>NaN</td>\n",
       "      <td>0</td>\n",
       "    </tr>\n",
       "    <tr>\n",
       "      <th>1</th>\n",
       "      <td>833043948</td>\n",
       "      <td>3631</td>\n",
       "      <td>7-я Парковая ул.</td>\n",
       "      <td>NaN</td>\n",
       "      <td>NaN</td>\n",
       "      <td>NaN</td>\n",
       "      <td>NaN</td>\n",
       "      <td>NaN</td>\n",
       "      <td>{type=Point, coordinates=[37.79377237, 55.7930...</td>\n",
       "      <td>NaN</td>\n",
       "      <td>0</td>\n",
       "    </tr>\n",
       "  </tbody>\n",
       "</table>\n",
       "</div>"
      ],
      "text/plain": [
       "   global_id stop_id         stop_name StationName Street Direction Pavilion  \\\n",
       "0  833043944    3630  5-я Парковая ул.         NaN    NaN       NaN      NaN   \n",
       "1  833043948    3631  7-я Парковая ул.         NaN    NaN       NaN      NaN   \n",
       "\n",
       "  OperatingOrgName                                            geoData  \\\n",
       "0              NaN  {type=Point, coordinates=[37.78753642, 55.7929...   \n",
       "1              NaN  {type=Point, coordinates=[37.79377237, 55.7930...   \n",
       "\n",
       "   Unnamed: 9  location_type  \n",
       "0         NaN              0  \n",
       "1         NaN              0  "
      ]
     },
     "execution_count": 210,
     "metadata": {},
     "output_type": "execute_result"
    }
   ],
   "source": [
    "download_url('https://op.mos.ru/EHDWSREST/catalog/export/get?id='+str(ids[2]), temp_file)\n",
    "a = pd.read_csv(temp_file, sep=';', encoding='cp1251')\n",
    "a = a[a.global_id != 'global_id']\n",
    "a['location_type'] = 0\n",
    "a.head(2)"
   ]
  },
  {
   "cell_type": "code",
   "execution_count": 211,
   "metadata": {},
   "outputs": [],
   "source": [
    "coords = [x.split('[')[1][:-2].split(', ') for x in a.geoData]\n",
    "a['stop_lon'] = [float(x[0]) for x in coords]\n",
    "a['stop_lat'] = [float(x[1]) for x in coords]\n",
    "a = a[['stop_id', 'stop_name', 'stop_lon', 'stop_lat', 'location_type']]"
   ]
  },
  {
   "cell_type": "code",
   "execution_count": 216,
   "metadata": {},
   "outputs": [],
   "source": [
    "a.to_csv('data/gtfs/stops.txt', sep=',', index=False)"
   ]
  },
  {
   "cell_type": "markdown",
   "metadata": {},
   "source": [
    "# stop_times.txt"
   ]
  },
  {
   "cell_type": "code",
   "execution_count": 255,
   "metadata": {},
   "outputs": [
    {
     "name": "stderr",
     "output_type": "stream",
     "text": [
      "/usr/local/lib/python3.6/site-packages/pandas/core/ops.py:1649: FutureWarning: elementwise comparison failed; returning scalar instead, but in the future will perform elementwise comparison\n",
      "  result = method(y)\n"
     ]
    },
    {
     "data": {
      "text/html": [
       "<div>\n",
       "<style scoped>\n",
       "    .dataframe tbody tr th:only-of-type {\n",
       "        vertical-align: middle;\n",
       "    }\n",
       "\n",
       "    .dataframe tbody tr th {\n",
       "        vertical-align: top;\n",
       "    }\n",
       "\n",
       "    .dataframe thead th {\n",
       "        text-align: right;\n",
       "    }\n",
       "</style>\n",
       "<table border=\"1\" class=\"dataframe\">\n",
       "  <thead>\n",
       "    <tr style=\"text-align: right;\">\n",
       "      <th></th>\n",
       "      <th>global_id</th>\n",
       "      <th>stop_times_id</th>\n",
       "      <th>trip_id</th>\n",
       "      <th>arrival_time</th>\n",
       "      <th>departure_time</th>\n",
       "      <th>stop_id</th>\n",
       "      <th>shape_dist_traveled</th>\n",
       "      <th>pickup_type</th>\n",
       "      <th>stop_headsign</th>\n",
       "      <th>stop_sequence</th>\n",
       "      <th>trip_type</th>\n",
       "      <th>stop_interval</th>\n",
       "      <th>Unnamed: 12</th>\n",
       "    </tr>\n",
       "  </thead>\n",
       "  <tbody>\n",
       "    <tr>\n",
       "      <th>0</th>\n",
       "      <td>870892967</td>\n",
       "      <td>NaN</td>\n",
       "      <td>14150167_1_4_2</td>\n",
       "      <td>07:10:00</td>\n",
       "      <td>07:10:00</td>\n",
       "      <td>1002227</td>\n",
       "      <td>NaN</td>\n",
       "      <td>NaN</td>\n",
       "      <td>NaN</td>\n",
       "      <td>1</td>\n",
       "      <td>NaN</td>\n",
       "      <td>NaN</td>\n",
       "      <td>NaN</td>\n",
       "    </tr>\n",
       "    <tr>\n",
       "      <th>1</th>\n",
       "      <td>870892968</td>\n",
       "      <td>NaN</td>\n",
       "      <td>14150167_1_3_32</td>\n",
       "      <td>22:33:00</td>\n",
       "      <td>22:33:00</td>\n",
       "      <td>1001069</td>\n",
       "      <td>NaN</td>\n",
       "      <td>NaN</td>\n",
       "      <td>NaN</td>\n",
       "      <td>13</td>\n",
       "      <td>NaN</td>\n",
       "      <td>NaN</td>\n",
       "      <td>NaN</td>\n",
       "    </tr>\n",
       "    <tr>\n",
       "      <th>2</th>\n",
       "      <td>870892970</td>\n",
       "      <td>NaN</td>\n",
       "      <td>14150167_1_4_2</td>\n",
       "      <td>07:12:00</td>\n",
       "      <td>07:12:00</td>\n",
       "      <td>11260</td>\n",
       "      <td>NaN</td>\n",
       "      <td>NaN</td>\n",
       "      <td>NaN</td>\n",
       "      <td>2</td>\n",
       "      <td>NaN</td>\n",
       "      <td>NaN</td>\n",
       "      <td>NaN</td>\n",
       "    </tr>\n",
       "    <tr>\n",
       "      <th>3</th>\n",
       "      <td>870892971</td>\n",
       "      <td>NaN</td>\n",
       "      <td>14150167_1_3_33</td>\n",
       "      <td>22:40:00</td>\n",
       "      <td>22:40:00</td>\n",
       "      <td>1001069</td>\n",
       "      <td>NaN</td>\n",
       "      <td>NaN</td>\n",
       "      <td>NaN</td>\n",
       "      <td>1</td>\n",
       "      <td>NaN</td>\n",
       "      <td>NaN</td>\n",
       "      <td>NaN</td>\n",
       "    </tr>\n",
       "    <tr>\n",
       "      <th>4</th>\n",
       "      <td>870892972</td>\n",
       "      <td>NaN</td>\n",
       "      <td>14150167_1_3_33</td>\n",
       "      <td>22:41:00</td>\n",
       "      <td>22:41:00</td>\n",
       "      <td>1002157</td>\n",
       "      <td>NaN</td>\n",
       "      <td>NaN</td>\n",
       "      <td>NaN</td>\n",
       "      <td>2</td>\n",
       "      <td>NaN</td>\n",
       "      <td>NaN</td>\n",
       "      <td>NaN</td>\n",
       "    </tr>\n",
       "  </tbody>\n",
       "</table>\n",
       "</div>"
      ],
      "text/plain": [
       "   global_id  stop_times_id          trip_id arrival_time departure_time  \\\n",
       "0  870892967            NaN   14150167_1_4_2     07:10:00       07:10:00   \n",
       "1  870892968            NaN  14150167_1_3_32     22:33:00       22:33:00   \n",
       "2  870892970            NaN   14150167_1_4_2     07:12:00       07:12:00   \n",
       "3  870892971            NaN  14150167_1_3_33     22:40:00       22:40:00   \n",
       "4  870892972            NaN  14150167_1_3_33     22:41:00       22:41:00   \n",
       "\n",
       "   stop_id  shape_dist_traveled  pickup_type  stop_headsign  stop_sequence  \\\n",
       "0  1002227                  NaN          NaN            NaN              1   \n",
       "1  1001069                  NaN          NaN            NaN             13   \n",
       "2    11260                  NaN          NaN            NaN              2   \n",
       "3  1001069                  NaN          NaN            NaN              1   \n",
       "4  1002157                  NaN          NaN            NaN              2   \n",
       "\n",
       "   trip_type  stop_interval  Unnamed: 12  \n",
       "0        NaN            NaN          NaN  \n",
       "1        NaN            NaN          NaN  \n",
       "2        NaN            NaN          NaN  \n",
       "3        NaN            NaN          NaN  \n",
       "4        NaN            NaN          NaN  "
      ]
     },
     "execution_count": 255,
     "metadata": {},
     "output_type": "execute_result"
    }
   ],
   "source": [
    "download_url('https://op.mos.ru/EHDWSREST/catalog/export/get?id='+str(ids[3]), temp_file)\n",
    "a = pd.read_csv(temp_file, sep=';', encoding='cp1251')\n",
    "a = a[a.global_id != 'global_id']\n",
    "a.head()"
   ]
  },
  {
   "cell_type": "code",
   "execution_count": 256,
   "metadata": {},
   "outputs": [],
   "source": [
    "a[['trip_id', 'arrival_time',\n",
    "  'departure_time', 'stop_id', 'stop_sequence',\n",
    "   'stop_headsign', 'pickup_type']].to_csv('data/gtfs/stop_times.txt', sep=',', index=False)"
   ]
  },
  {
   "cell_type": "markdown",
   "metadata": {},
   "source": [
    "# trips.txt\n"
   ]
  },
  {
   "cell_type": "code",
   "execution_count": 257,
   "metadata": {},
   "outputs": [
    {
     "data": {
      "text/html": [
       "<div>\n",
       "<style scoped>\n",
       "    .dataframe tbody tr th:only-of-type {\n",
       "        vertical-align: middle;\n",
       "    }\n",
       "\n",
       "    .dataframe tbody tr th {\n",
       "        vertical-align: top;\n",
       "    }\n",
       "\n",
       "    .dataframe thead th {\n",
       "        text-align: right;\n",
       "    }\n",
       "</style>\n",
       "<table border=\"1\" class=\"dataframe\">\n",
       "  <thead>\n",
       "    <tr style=\"text-align: right;\">\n",
       "      <th></th>\n",
       "      <th>global_id</th>\n",
       "      <th>route_id</th>\n",
       "      <th>service_id</th>\n",
       "      <th>trip_id</th>\n",
       "      <th>trip_headsign</th>\n",
       "      <th>direction_id</th>\n",
       "      <th>block_id</th>\n",
       "      <th>volume_id</th>\n",
       "      <th>trip_type</th>\n",
       "      <th>Unnamed: 9</th>\n",
       "    </tr>\n",
       "  </thead>\n",
       "  <tbody>\n",
       "    <tr>\n",
       "      <th>0</th>\n",
       "      <td>870379299</td>\n",
       "      <td>14150198</td>\n",
       "      <td>4</td>\n",
       "      <td>14150198_4_3_9</td>\n",
       "      <td>NaN</td>\n",
       "      <td>NaN</td>\n",
       "      <td>NaN</td>\n",
       "      <td>NaN</td>\n",
       "      <td>NaN</td>\n",
       "      <td>NaN</td>\n",
       "    </tr>\n",
       "    <tr>\n",
       "      <th>1</th>\n",
       "      <td>870379300</td>\n",
       "      <td>14150198</td>\n",
       "      <td>4</td>\n",
       "      <td>14150198_4_4_10</td>\n",
       "      <td>NaN</td>\n",
       "      <td>NaN</td>\n",
       "      <td>NaN</td>\n",
       "      <td>NaN</td>\n",
       "      <td>NaN</td>\n",
       "      <td>NaN</td>\n",
       "    </tr>\n",
       "    <tr>\n",
       "      <th>2</th>\n",
       "      <td>870379301</td>\n",
       "      <td>14150198</td>\n",
       "      <td>4</td>\n",
       "      <td>14150198_4_4_11</td>\n",
       "      <td>NaN</td>\n",
       "      <td>NaN</td>\n",
       "      <td>NaN</td>\n",
       "      <td>NaN</td>\n",
       "      <td>NaN</td>\n",
       "      <td>NaN</td>\n",
       "    </tr>\n",
       "    <tr>\n",
       "      <th>3</th>\n",
       "      <td>870379302</td>\n",
       "      <td>14150198</td>\n",
       "      <td>4</td>\n",
       "      <td>14150198_4_3_10</td>\n",
       "      <td>NaN</td>\n",
       "      <td>NaN</td>\n",
       "      <td>NaN</td>\n",
       "      <td>NaN</td>\n",
       "      <td>NaN</td>\n",
       "      <td>NaN</td>\n",
       "    </tr>\n",
       "    <tr>\n",
       "      <th>4</th>\n",
       "      <td>870379303</td>\n",
       "      <td>14150198</td>\n",
       "      <td>4</td>\n",
       "      <td>14150198_4_4_12</td>\n",
       "      <td>NaN</td>\n",
       "      <td>NaN</td>\n",
       "      <td>NaN</td>\n",
       "      <td>NaN</td>\n",
       "      <td>NaN</td>\n",
       "      <td>NaN</td>\n",
       "    </tr>\n",
       "  </tbody>\n",
       "</table>\n",
       "</div>"
      ],
      "text/plain": [
       "   global_id  route_id service_id          trip_id trip_headsign direction_id  \\\n",
       "0  870379299  14150198          4   14150198_4_3_9           NaN          NaN   \n",
       "1  870379300  14150198          4  14150198_4_4_10           NaN          NaN   \n",
       "2  870379301  14150198          4  14150198_4_4_11           NaN          NaN   \n",
       "3  870379302  14150198          4  14150198_4_3_10           NaN          NaN   \n",
       "4  870379303  14150198          4  14150198_4_4_12           NaN          NaN   \n",
       "\n",
       "  block_id volume_id trip_type  Unnamed: 9  \n",
       "0      NaN       NaN       NaN         NaN  \n",
       "1      NaN       NaN       NaN         NaN  \n",
       "2      NaN       NaN       NaN         NaN  \n",
       "3      NaN       NaN       NaN         NaN  \n",
       "4      NaN       NaN       NaN         NaN  "
      ]
     },
     "execution_count": 257,
     "metadata": {},
     "output_type": "execute_result"
    }
   ],
   "source": [
    "download_url('https://op.mos.ru/EHDWSREST/catalog/export/get?id='+str(ids[4]), temp_file)\n",
    "a = pd.read_csv(temp_file, sep=';', encoding='cp1251')\n",
    "a = a[a.global_id != 'global_id']\n",
    "a.head()"
   ]
  },
  {
   "cell_type": "code",
   "execution_count": 258,
   "metadata": {},
   "outputs": [],
   "source": [
    "a[['route_id', 'trip_id', 'service_id',\n",
    "   'trip_headsign', 'block_id']].to_csv('data/gtfs/trips.txt', sep=',', index=False)"
   ]
  },
  {
   "cell_type": "markdown",
   "metadata": {},
   "source": [
    "# agency.txt"
   ]
  },
  {
   "cell_type": "code",
   "execution_count": 263,
   "metadata": {},
   "outputs": [
    {
     "name": "stderr",
     "output_type": "stream",
     "text": [
      "/usr/local/lib/python3.6/site-packages/pandas/core/ops.py:1649: FutureWarning: elementwise comparison failed; returning scalar instead, but in the future will perform elementwise comparison\n",
      "  result = method(y)\n"
     ]
    }
   ],
   "source": [
    "download_url('https://op.mos.ru/EHDWSREST/catalog/export/get?id='+str(ids[5]), temp_file)\n",
    "a = pd.read_csv(temp_file, sep=';', encoding='cp1251')\n",
    "a = a[a.global_id != 'global_id']\n",
    "a = a.rename(columns = {'agency_code':'agency_id'})\n",
    "a[['agency_id', 'agency_name',\n",
    "   'agency_url', 'agency_timezone']].to_csv('data/gtfs/agency.txt', sep=',', index=False)"
   ]
  },
  {
   "cell_type": "code",
   "execution_count": 265,
   "metadata": {},
   "outputs": [],
   "source": [
    "os.remove(temp_file)"
   ]
  }
 ],
 "metadata": {
  "kernelspec": {
   "display_name": "Python 3",
   "language": "python",
   "name": "python3"
  },
  "language_info": {
   "codemirror_mode": {
    "name": "ipython",
    "version": 3
   },
   "file_extension": ".py",
   "mimetype": "text/x-python",
   "name": "python",
   "nbconvert_exporter": "python",
   "pygments_lexer": "ipython3",
   "version": "3.6.5"
  }
 },
 "nbformat": 4,
 "nbformat_minor": 2
}
